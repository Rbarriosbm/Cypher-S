{
 "cells": [
  {
   "cell_type": "markdown",
   "metadata": {},
   "source": [
    "Cifrado por sustitución "
   ]
  },
  {
   "cell_type": "code",
   "execution_count": 345,
   "metadata": {},
   "outputs": [],
   "source": [
    "import random as rd\n",
    "import pandas as pd \n",
    "import matplotlib.pyplot as plt\n",
    "\n",
    "alpha = 'abcdefghijklmnopqrstuvwxyzABCDEFGHIJKLMNOPQRSTUVWXYZ0123456789.,-?¿!¡;()- '\n",
    "\n",
    "\n",
    "#GENERATING RANDOM KEY\n",
    "def genkey(a):\n",
    "    keyw={}\n",
    "    keyw1={}\n",
    "    n=len(a)\n",
    "    v=[i for i in range(n)]\n",
    "    \n",
    "\n",
    "    for i in range(n):\n",
    "        r=rd.choice(v)\n",
    "        keyw[a[i]]=a[r]\n",
    "        keyw1[a[r]]=a[i]\n",
    "        v.remove(r)\n",
    "    return keyw, keyw1"
   ]
  },
  {
   "cell_type": "code",
   "execution_count": 346,
   "metadata": {},
   "outputs": [],
   "source": [
    "def cypher(W, M):\n",
    "    ch=''\n",
    "    for i in range(len(M)):\n",
    "        try:\n",
    "            ch=ch+W[M[i]]\n",
    "        except KeyError:\n",
    "            return 'Error'\n",
    "    return ch\n",
    "\n",
    "def decrypt(W1, CM):\n",
    "    cdh=''\n",
    "    for i in range(len(CM)):\n",
    "        try:\n",
    "            cdh=cdh+W1[CM[i]]\n",
    "        except KeyError:\n",
    "            return 'Error'\n",
    "    return cdh\n",
    "\n"
   ]
  },
  {
   "cell_type": "code",
   "execution_count": 347,
   "metadata": {},
   "outputs": [
    {
     "name": "stdout",
     "output_type": "stream",
     "text": [
      "{'a': 'm', 'b': 'K', 'c': 'g', 'd': '-', 'e': 'F', 'f': '4', 'g': 'd', 'h': 'G', 'i': 'p', 'j': 'P', 'k': 'n', 'l': 'O', 'm': '(', 'n': 'f', 'o': 'U', 'p': 'E', 'q': 'Y', 'r': 'k', 's': ',', 't': '7', 'u': 'v', 'v': 'H', 'w': 'J', 'x': '1', 'y': '-', 'z': 'C', 'A': 'r', 'B': 'R', 'C': 'I', 'D': 'i', 'E': ';', 'F': 'Z', 'G': '?', 'H': 'L', 'I': ' ', 'J': 'B', 'K': 'z', 'L': 'A', 'M': 'N', 'N': 'o', 'O': 'l', 'P': 'q', 'Q': '¿', 'R': '0', 'S': '!', 'T': 'Q', 'U': 't', 'V': '6', 'W': 'x', 'X': 'V', 'Y': 'y', 'Z': '8', '0': '5', '1': 's', '2': '3', '3': 'w', '4': 'M', '5': '2', '6': '.', '7': 'u', '8': '9', '9': 'T', '.': 'e', ',': 'j', '-': 'a', '?': ')', '¿': 'S', '!': 'X', '¡': 'D', ';': 'c', '(': '¡', ')': 'W', ' ': 'b'}\n",
      "{'m': 'a', 'K': 'b', 'g': 'c', '-': 'y', 'F': 'e', '4': 'f', 'd': 'g', 'G': 'h', 'p': 'i', 'P': 'j', 'n': 'k', 'O': 'l', '(': 'm', 'f': 'n', 'U': 'o', 'E': 'p', 'Y': 'q', 'k': 'r', ',': 's', '7': 't', 'v': 'u', 'H': 'v', 'J': 'w', '1': 'x', 'C': 'z', 'r': 'A', 'R': 'B', 'I': 'C', 'i': 'D', ';': 'E', 'Z': 'F', '?': 'G', 'L': 'H', ' ': 'I', 'B': 'J', 'z': 'K', 'A': 'L', 'N': 'M', 'o': 'N', 'l': 'O', 'q': 'P', '¿': 'Q', '0': 'R', '!': 'S', 'Q': 'T', 't': 'U', '6': 'V', 'x': 'W', 'V': 'X', 'y': 'Y', '8': 'Z', '5': '0', 's': '1', '3': '2', 'w': '3', 'M': '4', '2': '5', '.': '6', 'u': '7', '9': '8', 'T': '9', 'e': '.', 'j': ',', 'h': '-', ')': '?', 'S': '¿', 'X': '!', 'D': '¡', 'c': ';', '¡': '(', 'W': ')', 'a': '-', 'b': ' '}\n",
      "\n"
     ]
    }
   ],
   "source": [
    "#MAIN\n",
    "W,W1=genkey(alpha)\n",
    "print(W)\n",
    "print(W1)\n",
    "print()"
   ]
  },
  {
   "cell_type": "code",
   "execution_count": 348,
   "metadata": {},
   "outputs": [
    {
     "name": "stdout",
     "output_type": "stream",
     "text": [
      "-Plane text: \n",
      " There are a number of different types of substitution cipher. If the cipher operates on single letters, it is termed a simple substitution cipher; a cipher that operates on larger groups of letters is termed polygraphic. A monoalphabetic cipher uses fixed substitution over the entire message, whereas a polyalphabetic cipher uses a number of substitutions at different positions in the message, where a unit from the plaintext is mapped to one of several possibilities in the ciphertext and vice versa. \n",
      "\n",
      "-Cypher text: \n",
      " QGFkFbmkFbmbfv(KFkbU4b-p44FkFf7b7-EF,bU4b,vK,7p7v7pUfbgpEGFkeb 4b7GFbgpEGFkbUEFkm7F,bUfb,pfdOFbOF77Fk,jbp7bp,b7Fk(F-bmb,p(EOFb,vK,7p7v7pUfbgpEGFkcbmbgpEGFkb7Gm7bUEFkm7F,bUfbOmkdFkbdkUvE,bU4bOF77Fk,bp,b7Fk(F-bEUO-dkmEGpgebrb(UfUmOEGmKF7pgbgpEGFkbv,F,b4p1F-b,vK,7p7v7pUfbUHFkb7GFbFf7pkFb(F,,mdFjbJGFkFm,bmbEUO-mOEGmKF7pgbgpEGFkbv,F,bmbfv(KFkbU4b,vK,7p7v7pUf,bm7b-p44FkFf7bEU,p7pUf,bpfb7GFb(F,,mdFjbJGFkFbmbvfp7b4kU(b7GFbEOmpf7F17bp,b(mEEF-b7UbUfFbU4b,FHFkmObEU,,pKpOp7pF,bpfb7GFbgpEGFk7F17bmf-bHpgFbHFk,me \n",
      "\n",
      "-Decrypted text: \n",
      " There are a number of yifferent types of substitution cipher. If the cipher operates on single letters, it is termey a simple substitution cipher; a cipher that operates on larger groups of letters is termey polygraphic. A monoalphabetic cipher uses fixey substitution over the entire message, whereas a polyalphabetic cipher uses a number of substitutions at yifferent positions in the message, where a unit from the plaintext is mappey to one of several possibilities in the ciphertext any vice versa.\n"
     ]
    }
   ],
   "source": [
    "mainc=\"There are a number of different types of substitution cipher. If the cipher operates on single letters, it is termed a simple substitution cipher; a cipher that operates on larger groups of letters is termed polygraphic. A monoalphabetic cipher uses fixed substitution over the entire message, whereas a polyalphabetic cipher uses a number of substitutions at different positions in the message, where a unit from the plaintext is mapped to one of several possibilities in the ciphertext and vice versa.\"\n",
    "ctext = cypher(W,mainc)\n",
    "print(\"-Plane text: \\n\", mainc,\"\\n\")\n",
    "print(\"-Cypher text: \\n\",ctext, \"\\n\")\n",
    "\n",
    "utext = decrypt(W1,ctext)\n",
    "print(\"-Decrypted text: \\n\", utext)\n"
   ]
  },
  {
   "cell_type": "code",
   "execution_count": 368,
   "metadata": {},
   "outputs": [
    {
     "name": "stdout",
     "output_type": "stream",
     "text": [
      "['a', 'b', 'c', 'd', 'e', 'f', 'g', 'h', 'i', 'j', 'k', 'l', 'm', 'n', 'o', 'p', 'q', 'r', 's', 't', 'u', 'v', 'w', 'x', 'y', 'z', 'A', 'B', 'C', 'D', 'E', 'F', 'G', 'H', 'I', 'J', 'K', 'L', 'M', 'N', 'O', 'P', 'Q', 'R', 'S', 'T', 'U', 'V', 'W', 'X', 'Y', 'Z', '0', '1', '2', '3', '4', '5', '6', '7', '8', '9', '.', ',', '-', '?', '¿', '!', '¡', ';', '(', ')', '-', ' ']\n",
      "[25, 9, 11, 7, 62, 12, 6, 19, 39, 0, 0, 12, 10, 20, 25, 22, 0, 30, 36, 43, 14, 4, 2, 3, 3, 0, 1, 0, 0, 0, 0, 0, 0, 0, 1, 0, 0, 0, 0, 0, 0, 0, 0, 0, 0, 1, 0, 0, 0, 0, 0, 0, 0, 0, 0, 0, 0, 0, 0, 0, 0, 0, 3, 3, 0, 0, 0, 0, 0, 1, 0, 0, 0, 79]\n"
     ]
    },
    {
     "data": {
      "image/png": "[encoded data removed]",
      "text/plain": [
       "<Figure size 432x288 with 1 Axes>"
      ]
     },
     "metadata": {
      "needs_background": "light"
     },
     "output_type": "display_data"
    }
   ],
   "source": [
    "con=[]\n",
    "con1=[]\n",
    "lav=[]\n",
    "for i in range(len(alpha)):\n",
    "    con.append(mainc.count(alpha[i]))\n",
    "    con1.append(ctext.count(alpha[i]))\n",
    "    lav.append(alpha[i])\n",
    "\n",
    "print(lav)\n",
    "print(con)\n",
    "# pf=pd.DataFrame.plot.hist(f'{con}')\n",
    "# print(pf)\n",
    "plt.title('Histogram')\n",
    "plt.hist(lav,  color='#0e0000', rwidth=0.85)\n",
    "plt.grid (True)\n",
    "plt.show()"
   ]
  }
 ],
 "metadata": {
  "interpreter": {
   "hash": "5c4290cae8d9dd4b4e4815516a40e66f6d31a822e60d6666a80defe2a6e74175"
  },
  "kernelspec": {
   "display_name": "Python 3.8.6 64-bit",
   "language": "python",
   "name": "python3"
  },
  "language_info": {
   "codemirror_mode": {
    "name": "ipython",
    "version": 3
   },
   "file_extension": ".py",
   "mimetype": "text/x-python",
   "name": "python",
   "nbconvert_exporter": "python",
   "pygments_lexer": "ipython3",
   "version": "3.8.6"
  },
  "orig_nbformat": 4
 },
 "nbformat": 4,
 "nbformat_minor": 2
}
